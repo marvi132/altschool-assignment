{
 "cells": [
  {
   "cell_type": "code",
   "execution_count": 18,
   "id": "1e6f48bf",
   "metadata": {},
   "outputs": [
    {
     "name": "stdout",
     "output_type": "stream",
     "text": [
      "Requirement already satisfied: pymongo in c:\\users\\homepc\\desktop\\altschool_project\\.venv\\lib\\site-packages (4.14.0)\n",
      "Requirement already satisfied: faker in c:\\users\\homepc\\desktop\\altschool_project\\.venv\\lib\\site-packages (37.5.3)\n",
      "Requirement already satisfied: dnspython<3.0.0,>=1.16.0 in c:\\users\\homepc\\desktop\\altschool_project\\.venv\\lib\\site-packages (from pymongo) (2.7.0)\n",
      "Requirement already satisfied: tzdata in c:\\users\\homepc\\desktop\\altschool_project\\.venv\\lib\\site-packages (from faker) (2025.2)\n"
     ]
    }
   ],
   "source": [
    "!pip install pymongo faker"
   ]
  },
  {
   "cell_type": "code",
   "execution_count": 19,
   "id": "b23f3a6b",
   "metadata": {},
   "outputs": [
    {
     "name": "stdout",
     "output_type": "stream",
     "text": [
      "Requirement already satisfied: faker in c:\\users\\homepc\\desktop\\altschool_project\\.venv\\lib\\site-packages (37.5.3)\n",
      "Requirement already satisfied: tzdata in c:\\users\\homepc\\desktop\\altschool_project\\.venv\\lib\\site-packages (from faker) (2025.2)\n"
     ]
    }
   ],
   "source": [
    "!pip install faker"
   ]
  },
  {
   "cell_type": "code",
   "execution_count": 64,
   "id": "ae2f92d6",
   "metadata": {},
   "outputs": [],
   "source": [
    "from pymongo import MongoClient\n",
    "from faker import Faker\n",
    "from bson import ObjectId\n",
    "from datetime import datetime, timedelta\n",
    "import random\n",
    "import json\n",
    "\n",
    "fake = Faker()"
   ]
  },
  {
   "cell_type": "code",
   "execution_count": 36,
   "id": "95908c3a",
   "metadata": {},
   "outputs": [],
   "source": [
    "from pymongo import MongoClient\n",
    "\n",
    "# connect to mongoDB server\n",
    "client = MongoClient(\"mongodb://localhost:27017/\")\n",
    "db = client[\"test_db\"]\n",
    "collection = db[\"employees_collection\"]"
   ]
  },
  {
   "cell_type": "code",
   "execution_count": 23,
   "id": "9b2e241a",
   "metadata": {},
   "outputs": [],
   "source": [
    "from bson import ObjectId"
   ]
  },
  {
   "cell_type": "code",
   "execution_count": 24,
   "id": "6529ac4c",
   "metadata": {},
   "outputs": [],
   "source": [
    "# Predefined sample data\n",
    "\n",
    "fake = Faker()\n",
    "\n",
    "from datetime import datetime, timedelta\n",
    "\n",
    "\n",
    "departments = [\"Engineering\", \"Sales\", \"Marketing\", \"HR\", \"Finance\", \"Support\", \"Product\"]\n",
    "positions = [\"Junior Developer\", \"Senior Developer\", \"Team Lead\", \"Manager\", \"DevOps Engineer\", \"Data Analyst\"]\n",
    "skills_pool = [\"Python\", \"JavaScript\", \"Java\", \"C#\", \"MongoDB\", \"SQL\", \"AWS\", \"Docker\", \"Kubernetes\", \"React\", \"Node.js\"]\n",
    "\n",
    "# Function to generate a single employee document\n",
    "def generate_employee(emp_num):\n",
    "    #faker generate a datetime.date so covert to datetime.datetime\n",
    "    hire_date = datetime.strptime(str(fake.date_between(start_date='-10y', end_date='-1y')),\"%Y-%m-%d\")\n",
    "    last_promotion = hire_date + timedelta(days=random.randint(365, 1095))  # 1 to 3 years later\n",
    "\n",
    "    return {\n",
    "        \"employee_id\": f\"EMP{emp_num:04d}\",\n",
    "        \"first_name\": fake.first_name(),\n",
    "        \"last_name\": fake.last_name(),\n",
    "        \"email\": fake.email().replace('@', '@company.com'),\n",
    "        \"department\": random.choice(departments),\n",
    "        \"position\": random.choice(positions),\n",
    "        \"salary\": random.randint(50000, 180000),\n",
    "        \"years_experience\": random.randint(1, 20),\n",
    "        \"performance_rating\": round(random.uniform(1.0, 5.0), 1),\n",
    "        \"skills\": random.sample(skills_pool, k=random.randint(3, 6)),\n",
    "        \"hire_date\": hire_date,\n",
    "        \"last_promotion\": last_promotion,\n",
    "        \"is_remote\": random.choice([True, False]),\n",
    "        \"address\": {\n",
    "            \"city\": fake.city(),\n",
    "            \"state\": fake.state_abbr(),\n",
    "            \"zip_code\": fake.zipcode()\n",
    "        }\n",
    "    }\n",
    "\n",
    "# Generate 10,000 employee documents\n",
    "employees = [generate_employee(i) for i in range(1, 10001)]\n",
    "\n",
    "# Optionally: Save to JSON (MongoDB extended JSON format does not support ObjectId/ISODate by default)\n",
    "# So if you need to dump, you'd need to serialize these types or use pymongo to insert directly.\n",
    "\n"
   ]
  },
  {
   "cell_type": "code",
   "execution_count": 25,
   "id": "7e1e994c",
   "metadata": {},
   "outputs": [
    {
     "name": "stdout",
     "output_type": "stream",
     "text": [
      "{'employee_id': 'EMP0001', 'first_name': 'Monique', 'last_name': 'Scott', 'email': 'davidhenderson@company.comexample.org', 'department': 'Finance', 'position': 'Senior Developer', 'salary': 126798, 'years_experience': 13, 'performance_rating': 4.8, 'skills': ['MongoDB', 'Kubernetes', 'AWS', 'JavaScript'], 'hire_date': datetime.datetime(2021, 10, 19, 0, 0), 'last_promotion': datetime.datetime(2023, 8, 29, 0, 0), 'is_remote': True, 'address': {'city': 'Natalieville', 'state': 'NM', 'zip_code': '30202'}}\n"
     ]
    }
   ],
   "source": [
    "print(generate_employee(1))"
   ]
  },
  {
   "cell_type": "code",
   "execution_count": 26,
   "id": "eead688f",
   "metadata": {},
   "outputs": [
    {
     "name": "stdout",
     "output_type": "stream",
     "text": [
      "inserted 10000 employees into MongoDB\n"
     ]
    }
   ],
   "source": [
    "# insert list into my connection\n",
    "\n",
    "result = collection.insert_many(employees)\n",
    "\n",
    "print(f\"inserted {len(result.inserted_ids)} employees into MongoDB\")"
   ]
  },
  {
   "cell_type": "code",
   "execution_count": 48,
   "id": "be06a41e",
   "metadata": {},
   "outputs": [],
   "source": [
    "#find many documents\n",
    "def find_many_documents(query, projection=None):\n",
    "    try:\n",
    "        result = collection.find(query, projection)\n",
    "        return result\n",
    "    except Exception as e:\n",
    "        print(f\"error finding many document: {e}\")\n",
    "        return None"
   ]
  },
  {
   "cell_type": "code",
   "execution_count": 59,
   "id": "15ab4b51",
   "metadata": {},
   "outputs": [
    {
     "name": "stdout",
     "output_type": "stream",
     "text": [
      "{'first_name': 'Brittany', 'last_name': 'Cain', 'department': 'Product', 'salary': 158098}\n",
      "{'first_name': 'Kristie', 'last_name': 'Williams', 'department': 'Marketing', 'salary': 166255}\n",
      "{'first_name': 'Joe', 'last_name': 'Bailey', 'department': 'Support', 'salary': 174256}\n",
      "{'first_name': 'Peter', 'last_name': 'Turner', 'department': 'Sales', 'salary': 168474}\n",
      "{'first_name': 'Dave', 'last_name': 'Holmes', 'department': 'Product', 'salary': 96145}\n"
     ]
    }
   ],
   "source": [
    "# logical operator is use because it matches documents\n",
    "# that satisfies all the condition\n",
    "\n",
    "query = { \"$and\": [\n",
    "    {\"performance_rating\": {\"$gte\": 4.0}},\n",
    "    {\"salary\": {\"$gt\": 80000}}\n",
    "]\n",
    "}\n",
    "projection = {\"_id\": 0, \"first_name\": 1, \"last_name\": 1, \"department\": 1, \"salary\": 1, \"performance rating\": 1}\n",
    "result = find_many_documents(query, projection).limit(5)\n",
    "for doc in result:\n",
    "        print(doc)"
   ]
  },
  {
   "cell_type": "code",
   "execution_count": 61,
   "id": "d6a9e9aa",
   "metadata": {},
   "outputs": [
    {
     "name": "stdout",
     "output_type": "stream",
     "text": [
      "{'first_name': 'Chad', 'last_name': 'Herrera', 'email': 'leblanckevin@company.comexample.net', 'department': 'Support'}\n",
      "{'first_name': 'Ryan', 'last_name': 'Fitzgerald', 'email': 'jimmyrobinson@company.comexample.net', 'department': 'Finance'}\n",
      "{'first_name': 'Melissa', 'last_name': 'Miller', 'email': 'ryanchristine@company.comexample.com', 'department': 'Product'}\n",
      "{'first_name': 'George', 'last_name': 'Pierce', 'email': 'allenalicia@company.comexample.net', 'department': 'Product'}\n",
      "{'first_name': 'Juan', 'last_name': 'Brandt', 'email': 'sarah68@company.comexample.org', 'department': 'Finance'}\n"
     ]
    }
   ],
   "source": [
    "# logical operator is use because it matches documents\n",
    "# that satisfies all the condition\n",
    "\n",
    "query = { \"$and\": [\n",
    "    {\"years_experience\": { \"$gte\": 5, \"$lte\": 10}},\n",
    "    {\"salary\": {\"$gt\": 70000, \"$lt\": 120000}}\n",
    "]\n",
    "}\n",
    "projection = {\"_id\": 0, \"first_name\": 1, \"last_name\": 1, \"email\": 1, \"department\": 1}\n",
    "result = find_many_documents(query, projection).limit(5)\n",
    "for doc in result:\n",
    "    print(doc)"
   ]
  },
  {
   "cell_type": "code",
   "execution_count": null,
   "id": "bd7d08f2",
   "metadata": {},
   "outputs": [],
   "source": [
    "# aggregate document\n",
    "def aggregate_documents(pipeline):\n",
    "    return collection.aggregate(pipeline)"
   ]
  },
  {
   "cell_type": "code",
   "execution_count": 62,
   "id": "3e1f1359",
   "metadata": {},
   "outputs": [
    {
     "name": "stdout",
     "output_type": "stream",
     "text": [
      "{'salary': 69083, 'years_experience': 19, 'full_name': 'Carol Abbott'}\n",
      "{'salary': 85241, 'years_experience': 1, 'full_name': 'Kathryn Berry'}\n",
      "{'salary': 61182, 'years_experience': 17, 'full_name': 'Jamie Wood'}\n",
      "{'salary': 76520, 'years_experience': 20, 'full_name': 'Jennifer Moss'}\n",
      "{'salary': 85020, 'years_experience': 1, 'full_name': 'Mary Roberts'}\n"
     ]
    }
   ],
   "source": [
    "# aggregation operators is used because of operators like $concate\n",
    "pipeline = [\n",
    "    {\n",
    "     \"$match\": {\n",
    "         \"salary\": {\n",
    "             \"$gte\": 60000,\n",
    "             \"$lte\": 100000\n",
    "             }\n",
    "         }\n",
    "    },\n",
    "    {\n",
    "    \"$project\": {\n",
    "        \"_id\": 0,\n",
    "        \"full_name\":{\"$concat\": [\"$first_name\",\" \",\n",
    "\"$last_name\"]}, \n",
    "        \"salary\": 1,\n",
    "        \"years_experience\": 1\n",
    "        }\n",
    "    },\n",
    "    {\n",
    "        \"$limit\": 5  # Limit to 5 results\n",
    "    }\n",
    "]\n",
    "\n",
    "result = aggregate_documents(pipeline)\n",
    "for doc in result:\n",
    "    print(doc)"
   ]
  },
  {
   "cell_type": "code",
   "execution_count": 63,
   "id": "db48d8d5",
   "metadata": {},
   "outputs": [
    {
     "name": "stdout",
     "output_type": "stream",
     "text": [
      "{'salary': 158098, 'full_name': 'Brittany Cain'}\n",
      "{'salary': 96145, 'full_name': 'Dave Holmes'}\n",
      "{'salary': 179295, 'full_name': 'Daniel Herrera'}\n",
      "{'salary': 145583, 'full_name': 'Becky Patterson'}\n",
      "{'salary': 164951, 'full_name': 'Holly Carter'}\n"
     ]
    }
   ],
   "source": [
    "# the datetime.strptime is use because this is the format that is accepted by mongodb\n",
    "\n",
    "from datetime import datetime\n",
    "\n",
    "pipeline = [\n",
    "    {\n",
    "        \"$match\": {\n",
    "            \"performance_rating\": {\"$gt\": 3.5},\n",
    "            \"hire_date\": {\n",
    "                \"$gte\": datetime.strptime(\"2023-01-01T00:00:00.000+00:00\", \"%Y-%m-%dT%H:%M:%S.%f%z\"),\n",
    "                \"$lte\": datetime.strptime(\"2023-12-31T00:00:00.000+00:00\", \"%Y-%m-%dT%H:%M:%S.%f%z\")\n",
    "            }\n",
    "        }        \n",
    "    },\n",
    "    {\n",
    "    \"$project\":{\n",
    "        \"_id\": 0,\n",
    "        \"full_name\":{\"$concat\": [\"$first_name\",\" \",\"$last_name\"]},\n",
    "        \"salary\": 1\n",
    "        }\n",
    "    },\n",
    "    {\n",
    "        \"$limit\": 5  # Limit to 5 results\n",
    "    }\n",
    "]\n",
    "\n",
    "result = aggregate_documents(pipeline)\n",
    "for doc in result:\n",
    "    print(doc)"
   ]
  }
 ],
 "metadata": {
  "kernelspec": {
   "display_name": ".venv (3.13.3)",
   "language": "python",
   "name": "python3"
  },
  "language_info": {
   "codemirror_mode": {
    "name": "ipython",
    "version": 3
   },
   "file_extension": ".py",
   "mimetype": "text/x-python",
   "name": "python",
   "nbconvert_exporter": "python",
   "pygments_lexer": "ipython3",
   "version": "3.13.3"
  }
 },
 "nbformat": 4,
 "nbformat_minor": 5
}
